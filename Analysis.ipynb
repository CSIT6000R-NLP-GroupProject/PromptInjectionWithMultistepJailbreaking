{
 "cells": [
  {
   "cell_type": "markdown",
   "id": "04c36a4b",
   "metadata": {},
   "source": [
    "### Quantitive Analysis"
   ]
  },
  {
   "cell_type": "code",
   "execution_count": 1,
   "id": "8eb0773a",
   "metadata": {},
   "outputs": [],
   "source": [
    "from detoxify import Detoxify\n",
    "import pandas as pd"
   ]
  },
  {
   "cell_type": "code",
   "execution_count": null,
   "id": "84af40ee",
   "metadata": {},
   "outputs": [],
   "source": [
    "Model = [\"GPT3.5\", \"GPT4\", \"Llama\", \"Gemma\"]\n",
    "Mode = [\"developer\", \"badman\"]\n",
    "Type = [\"antisocial\", \"discrimination\", \"novelist\", \"war\"]"
   ]
  },
  {
   "cell_type": "code",
   "execution_count": null,
   "id": "2f3e6bf9",
   "metadata": {},
   "outputs": [],
   "source": [
    "for M in Model:\n",
    "    for m in Mode:\n",
    "        for t in Type:\n",
    "            filename = 'results/result_{Model}_{Mode}_{Type}.txt'.format(Model=M, Mode=m, Type=t)\n",
    "            \n",
    "            text = []\n",
    "            with open(filename, \"r\", encoding='utf-8') as f:\n",
    "                for line in f.readlines():\n",
    "                    if line.strip() != \"\" and line.strip() != \"None\":\n",
    "                        line = line.strip('\\n')\n",
    "                        text.append(line)\n",
    "            \n",
    "            model = Detoxify('original', device='cuda')\n",
    "            results = model.predict(text)\n",
    "            analysis = pd.DataFrame(results,index=text)\n",
    "            analysis.to_csv('analysis/analysis_{Model}_{Mode}_{Type}.csv'.format(Model=M, Mode=m, Type=t), encoding='utf-8')"
   ]
  },
  {
   "cell_type": "code",
   "execution_count": null,
   "id": "24775d75",
   "metadata": {},
   "outputs": [],
   "source": []
  }
 ],
 "metadata": {
  "kernelspec": {
   "display_name": "Python 3 (ipykernel)",
   "language": "python",
   "name": "python3"
  },
  "language_info": {
   "codemirror_mode": {
    "name": "ipython",
    "version": 3
   },
   "file_extension": ".py",
   "mimetype": "text/x-python",
   "name": "python",
   "nbconvert_exporter": "python",
   "pygments_lexer": "ipython3",
   "version": "3.8.19"
  }
 },
 "nbformat": 4,
 "nbformat_minor": 5
}
